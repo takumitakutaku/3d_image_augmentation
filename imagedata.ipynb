{
 "cells": [
  {
   "cell_type": "code",
   "execution_count": 1,
   "metadata": {},
   "outputs": [
    {
     "name": "stderr",
     "output_type": "stream",
     "text": [
      "Using TensorFlow backend.\n"
     ]
    }
   ],
   "source": [
    "import numpy as np\n",
    "import tensorflow as tf\n",
    "from tensorflow.keras.models import *\n",
    "from tensorflow.keras.layers import *\n",
    "from tensorflow.keras.losses import *\n",
    "from keras.applications.resnet50 import ResNet50\n",
    "from keras.utils.vis_utils import plot_model\n",
    "from models import *\n",
    "from keras.optimizers import adam\n",
    "\n",
    "from keras.preprocessing.image import ImageDataGenerator\n",
    "from keras.datasets import mnist\n",
    "from keras.utils import to_categorical\n",
    "import random"
   ]
  },
  {
   "cell_type": "code",
   "execution_count": 2,
   "metadata": {},
   "outputs": [
    {
     "name": "stdout",
     "output_type": "stream",
     "text": [
      "(23, 79, 79)\n",
      "(16, 23, 79, 79)\n",
      "(16, 23, 79, 79, 2)\n"
     ]
    }
   ],
   "source": [
    "from PIL import Image\n",
    "import numpy as np\n",
    "import matplotlib.pyplot as plt\n",
    "img =  Image.open(\"/Users/akiyamatakumi/Desktop/project/AI_comp/lemon_classification/notebooks/test_0003.jpg\")\n",
    "img_resize = np.array(img.resize((79,79)))\n",
    "img_resize[:,:,0][np.newaxis,...].shape\n",
    "\n",
    "x_train = np.tile(img_resize[:,:, 0][np.newaxis,...], (22,1,1))\n",
    "x_train = np.concatenate((x_train, img_resize[:,:,2][np.newaxis,...]))\n",
    "print(x_train.shape)\n",
    "x_train = np.tile(x_train[np.newaxis, ...], (16,1,1,1))\n",
    "print(x_train.shape)\n",
    "\n",
    "x_train = x_train[..., np.newaxis]\n",
    "x_train = np.concatenate((x_train, x_train), axis = 4)\n",
    "img = np.transpose(x_train, (0,1,4,2,3))\n",
    "print(x_train.shape)\n",
    "plt.imshow(img[0][22][1])\n",
    "\n",
    "y_train = np.zeros(16).reshape(16,1)"
   ]
  },
  {
   "cell_type": "code",
   "execution_count": 3,
   "metadata": {},
   "outputs": [
    {
     "data": {
      "text/plain": [
       "(16, 23, 79, 79, 2)"
      ]
     },
     "execution_count": 3,
     "metadata": {},
     "output_type": "execute_result"
    }
   ],
   "source": [
    "x_train.shape\n",
    "# x_train = np.transpose(x_train,(0,4,2,3,1))\n",
    "# x_train.shape"
   ]
  },
  {
   "cell_type": "code",
   "execution_count": 4,
   "metadata": {},
   "outputs": [],
   "source": [
    "batch_size = 1"
   ]
  },
  {
   "cell_type": "code",
   "execution_count": 9,
   "metadata": {},
   "outputs": [],
   "source": [
    "# we create two instances with the same arguments\n",
    "data_gen_args = dict(featurewise_center=True,\n",
    "                     featurewise_std_normalization=True,\n",
    "                     rotation_range=90.,\n",
    "                     width_shift_range=0.1,\n",
    "                     height_shift_range=0.1,\n",
    "                     zoom_range=0.2)\n",
    "image_datagen = ImageDataGenerator(**data_gen_args)\n",
    "mask_datagen = ImageDataGenerator(**data_gen_args)\n",
    "\n",
    "def gen_aug_chunk(in_gen, y, batch_size):\n",
    "    cnt = 0\n",
    "    for i, x in enumerate(in_gen):\n",
    "        print(i)\n",
    "        x_img = x[np.newaxis, ...]\n",
    "#         print(x_img.shape)\n",
    "        x_img_0 = x_img.swapaxes(1, 4)[:, 0]\n",
    "        x_img_1 = x_img.swapaxes(1, 4)[:, 1]\n",
    "#         print(x_img_0.shape)\n",
    "        seed = random.randint(0, 100)\n",
    "        image_generator = image_datagen.flow((x_img_0, y[i]), shuffle=True, seed=seed, batch_size = batch_size)\n",
    "        mask_generator = mask_datagen.flow((x_img_1, y[i]), shuffle=True, seed=seed, batch_size = batch_size)\n",
    "        x_scat_0 = next(image_generator)[0]\n",
    "        x_scat_1 = next(mask_generator)[0]\n",
    "#         print(len(image_generator))\n",
    "        x_scat = np.concatenate((x_scat_0,x_scat_1), axis = 0)\n",
    "        x_scat = np.expand_dims(x_scat,0).swapaxes(1, 4)\n",
    "        print(x_scat.shape)\n",
    "\n",
    "        train_generator = zip(image_generator, mask_generator)\n",
    "#         print(\"cnt:\" + str(cnt))\n",
    "        cnt+=1\n",
    "        yield x_scat, y[i]\n",
    "        "
   ]
  },
  {
   "cell_type": "code",
   "execution_count": 10,
   "metadata": {},
   "outputs": [
    {
     "name": "stdout",
     "output_type": "stream",
     "text": [
      "0\n",
      "(1, 23, 79, 79, 2)\n"
     ]
    }
   ],
   "source": [
    "train_aug_gen = gen_aug_chunk(x_train, y_train, batch_size = 5)\n",
    "# type(train_aug_gen)\n",
    "x_out, y_out = next(train_aug_gen)\n",
    "# print(x_out.shape)"
   ]
  },
  {
   "cell_type": "code",
   "execution_count": 11,
   "metadata": {},
   "outputs": [
    {
     "name": "stdout",
     "output_type": "stream",
     "text": [
      "WARNING:tensorflow:From /anaconda3/lib/python3.6/site-packages/tensorflow/python/framework/op_def_library.py:263: colocate_with (from tensorflow.python.framework.ops) is deprecated and will be removed in a future version.\n",
      "Instructions for updating:\n",
      "Colocations handled automatically by placer.\n",
      "_________________________________________________________________\n",
      "Layer (type)                 Output Shape              Param #   \n",
      "=================================================================\n",
      "input_1 (InputLayer)         (None, 23, 79, 79, 2)     0         \n",
      "_________________________________________________________________\n",
      "batch_normalization_1 (Batch (None, 23, 79, 79, 2)     8         \n",
      "_________________________________________________________________\n",
      "conv3d_1 (Conv3D)            (None, 23, 79, 79, 8)     408       \n",
      "_________________________________________________________________\n",
      "flatten_1 (Flatten)          (None, 1148344)           0         \n",
      "_________________________________________________________________\n",
      "dense_1 (Dense)              (None, 1)                 1148345   \n",
      "=================================================================\n",
      "Total params: 1,148,761\n",
      "Trainable params: 1,148,757\n",
      "Non-trainable params: 4\n",
      "_________________________________________________________________\n"
     ]
    }
   ],
   "source": [
    "from keras.layers import ConvLSTM2D, Bidirectional, BatchNormalization, Conv3D, Cropping3D, ZeroPadding3D, Activation, Input\n",
    "from keras.layers import MaxPooling3D, UpSampling3D, Deconvolution3D, concatenate, Flatten, Dense\n",
    "from keras.models import Model\n",
    "import keras\n",
    "\n",
    "in_layer = Input((23, 79, 79, 2))\n",
    "bn = BatchNormalization()(in_layer)\n",
    "cn1 = Conv3D(8, \n",
    "             kernel_size = (1, 5, 5), \n",
    "             padding = 'same',\n",
    "             activation = 'relu')(bn)\n",
    "fl = Flatten()(cn1)\n",
    "out = Dense(1, activation = \"sigmoid\")(fl)\n",
    "sim_model = Model(inputs = [in_layer], outputs = [out])\n",
    "sim_model.summary()"
   ]
  },
  {
   "cell_type": "code",
   "execution_count": 12,
   "metadata": {},
   "outputs": [
    {
     "name": "stderr",
     "output_type": "stream",
     "text": [
      "/anaconda3/lib/python3.6/site-packages/keras/callbacks.py:1065: UserWarning: `epsilon` argument is deprecated and will be removed, use `min_delta` instead.\n",
      "  warnings.warn('`epsilon` argument is deprecated and '\n"
     ]
    }
   ],
   "source": [
    "sim_model.compile(optimizer='adam', loss='binary_crossentropy', metrics = ['binary_accuracy', 'mse'])\n",
    "from keras.callbacks import ModelCheckpoint, LearningRateScheduler, EarlyStopping, ReduceLROnPlateau\n",
    "weight_path=\"{}_weights.best.hdf5\".format('convlstm_model')\n",
    "\n",
    "checkpoint = ModelCheckpoint(weight_path, monitor='val_loss', verbose=1, \n",
    "                             save_best_only=True, mode='min', save_weights_only = True)\n",
    "\n",
    "reduceLROnPlat = ReduceLROnPlateau(monitor='val_loss', factor=0.8, patience=5, verbose=1, mode='auto', epsilon=0.0001, cooldown=5, min_lr=0.0001)\n",
    "early = EarlyStopping(monitor=\"val_loss\", \n",
    "                      mode=\"min\", \n",
    "                      patience=10) # probably needs to be more patient, but kaggle time is limited\n",
    "callbacks_list = [checkpoint, early, reduceLROnPlat]"
   ]
  },
  {
   "cell_type": "code",
   "execution_count": 1,
   "metadata": {},
   "outputs": [
    {
     "ename": "NameError",
     "evalue": "name 'sim_model' is not defined",
     "output_type": "error",
     "traceback": [
      "\u001b[0;31m---------------------------------------------------------------------------\u001b[0m",
      "\u001b[0;31mNameError\u001b[0m                                 Traceback (most recent call last)",
      "\u001b[0;32m<ipython-input-1-d4d004d33926>\u001b[0m in \u001b[0;36m<module>\u001b[0;34m\u001b[0m\n\u001b[0;32m----> 1\u001b[0;31m sim_model.fit_generator(train_aug_gen, \n\u001b[0m\u001b[1;32m      2\u001b[0m                         \u001b[0mepochs\u001b[0m\u001b[0;34m=\u001b[0m\u001b[0;36m20\u001b[0m\u001b[0;34m,\u001b[0m\u001b[0;34m\u001b[0m\u001b[0;34m\u001b[0m\u001b[0m\n\u001b[1;32m      3\u001b[0m                         steps_per_epoch = 100)\n",
      "\u001b[0;31mNameError\u001b[0m: name 'sim_model' is not defined"
     ]
    }
   ],
   "source": [
    "sim_model.fit_generator(train_aug_gen, \n",
    "                        epochs=20,\n",
    "                        steps_per_epoch = 100)"
   ]
  },
  {
   "cell_type": "code",
   "execution_count": null,
   "metadata": {},
   "outputs": [],
   "source": []
  },
  {
   "cell_type": "code",
   "execution_count": null,
   "metadata": {},
   "outputs": [],
   "source": []
  }
 ],
 "metadata": {
  "kernelspec": {
   "display_name": "Python 3",
   "language": "python",
   "name": "python3"
  },
  "language_info": {
   "codemirror_mode": {
    "name": "ipython",
    "version": 3
   },
   "file_extension": ".py",
   "mimetype": "text/x-python",
   "name": "python",
   "nbconvert_exporter": "python",
   "pygments_lexer": "ipython3",
   "version": "3.6.8"
  }
 },
 "nbformat": 4,
 "nbformat_minor": 2
}
